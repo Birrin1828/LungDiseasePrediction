{
 "cells": [
  {
   "cell_type": "code",
   "execution_count": 10,
   "metadata": {},
   "outputs": [],
   "source": [
    "import tensorflow.keras as keras\n",
    "from tensorflow.keras.models import load_model\n",
    "from tensorflow.keras.models import Sequential\n",
    "\n",
    "def load_and_check_model(model_path):\n",
    "    try:\n",
    "        # Load the model\n",
    "        model = load_model(model_path)\n",
    "\n",
    "        # Check if the loaded model is not None\n",
    "        if model is not None:\n",
    "            # Check if the loaded model is an instance of the expected model class\n",
    "            if isinstance(model, Sequential):\n",
    "                print(\"Model loaded successfully!\")\n",
    "                return model\n",
    "            else:\n",
    "                print(\"Error: Loaded model is not of the expected type.\")\n",
    "                return None\n",
    "        else:\n",
    "            print(\"Error: Failed to load the model.\")\n",
    "            return None\n",
    "    except Exception as e:\n",
    "        print(f\"Error: {e}\")\n",
    "        return None\n"
   ]
  },
  {
   "cell_type": "code",
   "execution_count": 11,
   "metadata": {},
   "outputs": [
    {
     "name": "stdout",
     "output_type": "stream",
     "text": [
      "Model loaded successfully!\n"
     ]
    }
   ],
   "source": [
    "model_path = \"./Ann0.h5\"\n",
    "loaded_model = load_and_check_model(model_path)"
   ]
  }
 ],
 "metadata": {
  "kernelspec": {
   "display_name": "base",
   "language": "python",
   "name": "python3"
  },
  "language_info": {
   "codemirror_mode": {
    "name": "ipython",
    "version": 3
   },
   "file_extension": ".py",
   "mimetype": "text/x-python",
   "name": "python",
   "nbconvert_exporter": "python",
   "pygments_lexer": "ipython3",
   "version": "3.10.9"
  }
 },
 "nbformat": 4,
 "nbformat_minor": 2
}
